{
 "cells": [
  {
   "cell_type": "markdown",
   "metadata": {},
   "source": [
    "# Univariate Energy Signature"
   ]
  },
  {
   "cell_type": "code",
   "execution_count": null,
   "metadata": {},
   "outputs": [],
   "source": [
    "import pandas as pd\n",
    "import numpy as np\n",
    "from matplotlib import pyplot as plt\n",
    "import statsmodels.api as sm\n",
    "import plotly.express as px\n",
    "import plotly.graph_objects as go\n",
    "from mpl_toolkits.mplot3d import Axes3D\n",
    "import matplotlib.patches as mpatches\n",
    "from matplotlib.lines import Line2D\n",
    "from sklearn.metrics import mean_squared_error"
   ]
  },
  {
   "cell_type": "code",
   "execution_count": null,
   "metadata": {},
   "outputs": [],
   "source": [
    "df=pd.read_csv('my_data.csv',sep=',',decimal='.',index_col=0)"
   ]
  },
  {
   "cell_type": "code",
   "execution_count": null,
   "metadata": {},
   "outputs": [],
   "source": [
    "df.index=pd.to_datetime(df.index,unit='s')"
   ]
  },
  {
   "cell_type": "code",
   "execution_count": null,
   "metadata": {},
   "outputs": [],
   "source": [
    "df.index"
   ]
  },
  {
   "cell_type": "code",
   "execution_count": null,
   "metadata": {},
   "outputs": [],
   "source": [
    "df.columns"
   ]
  },
  {
   "cell_type": "code",
   "execution_count": null,
   "metadata": {},
   "outputs": [],
   "source": [
    "df['deltaT']=df.T_in.astype(float)-df.T_ex.astype(float)\n",
    "df['T_in']=df.T_in.astype(float)\n",
    "df['T_ex']=df.T_ex.astype(float)\n",
    "df['Heat']=df.Heat.astype(float)\n",
    "df['Cool']=df.Cool.astype(float)\n",
    "df['Solar']=df.Solar.astype(float)"
   ]
  },
  {
   "cell_type": "markdown",
   "metadata": {},
   "source": [
    "# 10 minutes"
   ]
  },
  {
   "cell_type": "markdown",
   "metadata": {},
   "source": [
    "Extract the cooling and heating dataframes and drop null values"
   ]
  },
  {
   "cell_type": "code",
   "execution_count": null,
   "metadata": {},
   "outputs": [],
   "source": [
    "cool_d = df.where(df['Cool']!=0.0).dropna()\n",
    "heat_d = df.where(df['Heat']!=0.0).dropna()"
   ]
  },
  {
   "cell_type": "markdown",
   "metadata": {},
   "source": [
    "Fit the regression models"
   ]
  },
  {
   "cell_type": "code",
   "execution_count": null,
   "metadata": {},
   "outputs": [],
   "source": [
    "model_h = sm.OLS(heat_d.Heat,sm.add_constant(heat_d.deltaT))\n",
    "model_c = sm.OLS(cool_d.Cool,sm.add_constant(cool_d.deltaT))"
   ]
  },
  {
   "cell_type": "code",
   "execution_count": null,
   "metadata": {},
   "outputs": [],
   "source": [
    "results_h = model_h.fit()\n",
    "results_c = model_c.fit()"
   ]
  },
  {
   "cell_type": "markdown",
   "metadata": {},
   "source": [
    "Plot the results"
   ]
  },
  {
   "cell_type": "code",
   "execution_count": null,
   "metadata": {},
   "outputs": [],
   "source": [
    "fig = plt.figure(figsize=(8,5))\n",
    "plt.plot(heat_d.deltaT,results_h.predict(),'r', linewidth=1, label='Heating Regression Line')\n",
    "plt.plot(cool_d.deltaT,results_c.predict(),'k',linestyle='-.', linewidth=1, label='Cooling Regression Line')\n",
    "plt.scatter(heat_d.deltaT,heat_d.Heat, s=10, label='Observations heating')\n",
    "plt.scatter(cool_d.deltaT,cool_d.Cool, s=25, color='r',marker='s', label='Observations cooling')\n",
    "plt.xlabel('\\u0394T [\\u00B0C]')\n",
    "plt.ylabel('Energy Consumption [kWh]')\n",
    "plt.ylim(-0.01,2.9)\n",
    "plt.legend()\n",
    "plt.show()"
   ]
  },
  {
   "cell_type": "markdown",
   "metadata": {},
   "source": [
    "Compute Root Mean Square Error"
   ]
  },
  {
   "cell_type": "code",
   "execution_count": null,
   "metadata": {},
   "outputs": [],
   "source": [
    "rmse_c = mean_squared_error(cool_d.Cool.values, results_c.predict(), squared=False)\n",
    "print('The RMSE for 10 minutes of resolution for Cooling Consumptions is: '+str(rmse_c)+' kWh')\n",
    "results_c.summary()"
   ]
  },
  {
   "cell_type": "code",
   "execution_count": null,
   "metadata": {},
   "outputs": [],
   "source": [
    "rmse_h = mean_squared_error(heat_d.Heat.values, results_h.predict(), squared=False)\n",
    "print('The RMSE for 10 minutes of resolution for Heating Consumptions is: '+str(rmse_h)+' kWh')\n",
    "results_h.summary()"
   ]
  },
  {
   "cell_type": "markdown",
   "metadata": {},
   "source": [
    "# Hourly"
   ]
  },
  {
   "cell_type": "markdown",
   "metadata": {},
   "source": [
    "Resample the dataset hourly"
   ]
  },
  {
   "cell_type": "code",
   "execution_count": null,
   "metadata": {},
   "outputs": [],
   "source": [
    "df=df.resample('H').mean()\n",
    "df=df.dropna()"
   ]
  },
  {
   "cell_type": "code",
   "execution_count": null,
   "metadata": {},
   "outputs": [],
   "source": [
    "df.index"
   ]
  },
  {
   "cell_type": "markdown",
   "metadata": {},
   "source": [
    "Extract the cooling and heating dataframes and drop null values"
   ]
  },
  {
   "cell_type": "code",
   "execution_count": null,
   "metadata": {},
   "outputs": [],
   "source": [
    "cool_d = df.where(df['Cool']!=0.0).dropna()\n",
    "heat_d = df.where(df['Heat']!=0.0).dropna()"
   ]
  },
  {
   "cell_type": "markdown",
   "metadata": {},
   "source": [
    "Fit the regression models"
   ]
  },
  {
   "cell_type": "code",
   "execution_count": null,
   "metadata": {},
   "outputs": [],
   "source": [
    "model_h = sm.OLS(heat_d.Heat,sm.add_constant(heat_d.deltaT))\n",
    "model_c = sm.OLS(cool_d.Cool,sm.add_constant(cool_d.deltaT))"
   ]
  },
  {
   "cell_type": "code",
   "execution_count": null,
   "metadata": {},
   "outputs": [],
   "source": [
    "results_h = model_h.fit()\n",
    "results_c = model_c.fit()"
   ]
  },
  {
   "cell_type": "markdown",
   "metadata": {},
   "source": [
    "Plot the results"
   ]
  },
  {
   "cell_type": "code",
   "execution_count": null,
   "metadata": {},
   "outputs": [],
   "source": [
    "fig = plt.figure(figsize=(8,5))\n",
    "plt.plot(heat_d.deltaT,results_h.predict(),'r', linewidth=1, label='Heating Regression Line')\n",
    "plt.plot(cool_d.deltaT,results_c.predict(),'k', linestyle='-.', linewidth=1, label='Cooling Regression Line')\n",
    "plt.scatter(heat_d.deltaT,heat_d.Heat, s=10, label='Observations heating')\n",
    "plt.scatter(cool_d.deltaT,cool_d.Cool, s=25, color='r', marker='s',label='Observations cooling')\n",
    "plt.xlabel('\\u0394T [\\u00B0C]')\n",
    "plt.ylabel('Energy Consumption [kWh]')\n",
    "plt.ylim(-0.01,1.27)\n",
    "plt.legend()\n",
    "plt.show()"
   ]
  },
  {
   "cell_type": "markdown",
   "metadata": {},
   "source": [
    "Compute RMSE"
   ]
  },
  {
   "cell_type": "code",
   "execution_count": null,
   "metadata": {},
   "outputs": [],
   "source": [
    "rmse_c = mean_squared_error(cool_d.Cool.values, results_c.predict(), squared=False)\n",
    "print('The RMSE for hourly resolution for Cooling Consumptions is: '+str(rmse_c)+' kWh')\n",
    "results_c.summary()"
   ]
  },
  {
   "cell_type": "code",
   "execution_count": null,
   "metadata": {},
   "outputs": [],
   "source": [
    "rmse_h = mean_squared_error(heat_d.Heat.values, results_h.predict(), squared=False)\n",
    "print('The RMSE for hourly resolution for Heating Consumptions is: '+str(rmse_h)+' kWh')\n",
    "results_h.summary()"
   ]
  },
  {
   "cell_type": "markdown",
   "metadata": {},
   "source": [
    "# Daily"
   ]
  },
  {
   "cell_type": "code",
   "execution_count": null,
   "metadata": {},
   "outputs": [],
   "source": [
    "df=df.resample('D').mean()\n",
    "df=df.dropna()"
   ]
  },
  {
   "cell_type": "markdown",
   "metadata": {},
   "source": [
    "Extract the cooling and heating dataframes and drop null values"
   ]
  },
  {
   "cell_type": "code",
   "execution_count": null,
   "metadata": {},
   "outputs": [],
   "source": [
    "cool_d = df.where(df['Cool']!=0.0).dropna()\n",
    "heat_d = df.where(df['Heat']!=0.0).dropna()"
   ]
  },
  {
   "cell_type": "markdown",
   "metadata": {},
   "source": [
    "Fit the regression models"
   ]
  },
  {
   "cell_type": "code",
   "execution_count": null,
   "metadata": {},
   "outputs": [],
   "source": [
    "model_h = sm.OLS(heat_d.Heat,sm.add_constant(heat_d.deltaT))\n",
    "model_c = sm.OLS(cool_d.Cool,sm.add_constant(cool_d.deltaT))"
   ]
  },
  {
   "cell_type": "code",
   "execution_count": null,
   "metadata": {},
   "outputs": [],
   "source": [
    "results_h = model_h.fit()\n",
    "results_c = model_c.fit()"
   ]
  },
  {
   "cell_type": "markdown",
   "metadata": {},
   "source": [
    "Plot the results"
   ]
  },
  {
   "cell_type": "code",
   "execution_count": null,
   "metadata": {},
   "outputs": [],
   "source": [
    "fig = plt.figure(figsize=(8,5))\n",
    "plt.plot(heat_d.deltaT,results_h.predict(),'r', linewidth=1, label='Heating Regression Line')\n",
    "plt.plot(cool_d.deltaT,results_c.predict(),'k', linestyle='-.',linewidth=1, label='Cooling Regression Line')\n",
    "plt.scatter(heat_d.deltaT,heat_d.Heat, s=10, label='Observations heating')\n",
    "plt.scatter(cool_d.deltaT,cool_d.Cool, s=30, color='r',marker='s', label='Observations cooling')\n",
    "plt.xlabel('\\u0394T [\\u00B0C]')\n",
    "plt.ylabel('Energy Consumption [kWh]')\n",
    "plt.ylim(-0.01,0.8)\n",
    "plt.legend(loc='upper left')\n",
    "plt.show()"
   ]
  },
  {
   "cell_type": "code",
   "execution_count": null,
   "metadata": {},
   "outputs": [],
   "source": [
    "rmse_c = mean_squared_error(cool_d.Cool.values, results_c.predict(), squared=False)\n",
    "print('The RMSE for dayly resolution for Cooling Consumptions is: '+str(rmse_c)+' kWh')\n",
    "results_c.summary()"
   ]
  },
  {
   "cell_type": "code",
   "execution_count": null,
   "metadata": {},
   "outputs": [],
   "source": [
    "rmse_h = mean_squared_error(heat_d.Heat.values, results_h.predict(), squared=False)\n",
    "print('The RMSE for dayly resolution for Heating Consumptions is: '+str(rmse_h)+' kWh')\n",
    "results_h.summary()"
   ]
  },
  {
   "cell_type": "markdown",
   "metadata": {},
   "source": [
    "# Weekly"
   ]
  },
  {
   "cell_type": "code",
   "execution_count": null,
   "metadata": {},
   "outputs": [],
   "source": [
    "df=df.resample('W').mean()\n",
    "df=df.dropna()"
   ]
  },
  {
   "cell_type": "markdown",
   "metadata": {},
   "source": [
    "Extract the cooling and heating dataframes and drop null values"
   ]
  },
  {
   "cell_type": "code",
   "execution_count": null,
   "metadata": {},
   "outputs": [],
   "source": [
    "cool_d = df.where(df['Cool']!=0.0).dropna()\n",
    "heat_d = df.where(df['Heat']!=0.0).dropna()\n",
    "heat_d.index"
   ]
  },
  {
   "cell_type": "code",
   "execution_count": null,
   "metadata": {},
   "outputs": [],
   "source": [
    "heat_d.drop(heat_d.index[0], inplace=True)"
   ]
  },
  {
   "cell_type": "markdown",
   "metadata": {},
   "source": [
    "Fit the regression models"
   ]
  },
  {
   "cell_type": "code",
   "execution_count": null,
   "metadata": {},
   "outputs": [],
   "source": [
    "model_h = sm.OLS(heat_d.Heat,sm.add_constant(heat_d.deltaT))\n",
    "model_c = sm.OLS(cool_d.Cool,sm.add_constant(cool_d.deltaT))"
   ]
  },
  {
   "cell_type": "code",
   "execution_count": null,
   "metadata": {},
   "outputs": [],
   "source": [
    "results_h = model_h.fit()\n",
    "results_c = model_c.fit()"
   ]
  },
  {
   "cell_type": "markdown",
   "metadata": {},
   "source": [
    "Plot the results"
   ]
  },
  {
   "cell_type": "code",
   "execution_count": null,
   "metadata": {},
   "outputs": [],
   "source": [
    "fig = plt.figure(figsize=(8,5))\n",
    "plt.plot(heat_d.deltaT,results_h.predict(),'r', linewidth=1, label='Heating Regression Line')\n",
    "plt.plot(cool_d.deltaT,results_c.predict(),'k', linestyle='-.', linewidth=1, label='Cooling Regression Line')\n",
    "plt.scatter(heat_d.deltaT,heat_d.Heat, s=10, label='Observations heating', marker='o')\n",
    "plt.scatter(cool_d.deltaT,cool_d.Cool, s=30, color='r', marker='s',label='Observations cooling')\n",
    "plt.xlabel('\\u0394T [\\u00B0C]')\n",
    "plt.ylabel('Energy Consumption [kWh]')\n",
    "plt.ylim(-0.01,0.32)\n",
    "plt.legend(loc='upper left')\n",
    "plt.show()"
   ]
  },
  {
   "cell_type": "code",
   "execution_count": null,
   "metadata": {},
   "outputs": [],
   "source": [
    "rmse_c = mean_squared_error(cool_d.Cool.values, results_c.predict(), squared=False)\n",
    "print('The RMSE for weekly resolution for Cooling Consumptions is: '+str(rmse_c)+' kWh')\n",
    "results_c.summary()"
   ]
  },
  {
   "cell_type": "code",
   "execution_count": null,
   "metadata": {},
   "outputs": [],
   "source": [
    "rmse_h = mean_squared_error(heat_d.Heat.values, results_h.predict(), squared=False)\n",
    "print('The RMSE for weekly resolution for Heating Consumptions is: '+str(rmse_h)+' kWh')\n",
    "results_h.summary()"
   ]
  },
  {
   "cell_type": "markdown",
   "metadata": {},
   "source": [
    "# Multivariate Energy Signature: solar radiation as further regressor"
   ]
  },
  {
   "cell_type": "markdown",
   "metadata": {},
   "source": [
    "# 10 minutes"
   ]
  },
  {
   "cell_type": "code",
   "execution_count": null,
   "metadata": {},
   "outputs": [],
   "source": [
    "df=pd.read_csv('my_data.csv',sep=',',decimal=',',index_col=0)"
   ]
  },
  {
   "cell_type": "code",
   "execution_count": null,
   "metadata": {},
   "outputs": [],
   "source": [
    "df.index=pd.to_datetime(df.index,unit='s')"
   ]
  },
  {
   "cell_type": "code",
   "execution_count": null,
   "metadata": {},
   "outputs": [],
   "source": [
    "df['deltaT']=df.T_in.astype(float)-df.T_ex.astype(float)\n",
    "df['T_in']=df.T_in.astype(float)\n",
    "df['T_ex']=df.T_ex.astype(float)\n",
    "df['Heat']=df.Heat.astype(float)\n",
    "df['Cool']=df.Cool.astype(float)\n",
    "df['Solar']=df.Solar.astype(float)"
   ]
  },
  {
   "cell_type": "markdown",
   "metadata": {},
   "source": [
    "Extract the cooling and heating dataframes"
   ]
  },
  {
   "cell_type": "code",
   "execution_count": null,
   "metadata": {},
   "outputs": [],
   "source": [
    "cool_d = df.where(df['Cool']!=0.0).dropna()\n",
    "heat_d = df.where(df['Heat']!=0.0).dropna()"
   ]
  },
  {
   "cell_type": "markdown",
   "metadata": {},
   "source": [
    "Fit the regression models"
   ]
  },
  {
   "cell_type": "code",
   "execution_count": null,
   "metadata": {},
   "outputs": [],
   "source": [
    "y_h = heat_d.Heat\n",
    "y_c = cool_d.Cool\n",
    "X_h = heat_d.loc[:, ['deltaT', 'Solar']]\n",
    "X_c = cool_d.loc[:, ['deltaT', 'Solar']]\n",
    "X_h = sm.add_constant(X_h)\n",
    "X_c = sm.add_constant(X_c)"
   ]
  },
  {
   "cell_type": "code",
   "execution_count": null,
   "metadata": {},
   "outputs": [],
   "source": [
    "model_h = sm.OLS(y_h,X_h)\n",
    "model_c = sm.OLS(y_c,X_c)"
   ]
  },
  {
   "cell_type": "code",
   "execution_count": null,
   "metadata": {},
   "outputs": [],
   "source": [
    "results_h = model_h.fit()\n",
    "results_c = model_c.fit()"
   ]
  },
  {
   "cell_type": "markdown",
   "metadata": {},
   "source": [
    "Plot the results"
   ]
  },
  {
   "cell_type": "code",
   "execution_count": null,
   "metadata": {},
   "outputs": [],
   "source": [
    "xx1c, xx2c = np.meshgrid(np.linspace(cool_d.deltaT.min(), cool_d.deltaT.max(), 100), \n",
    "                         np.linspace(cool_d.Solar.min(), cool_d.Solar.max(), 100))\n",
    "Zc = results_c.params[0] + results_c.params[1] * xx1c + results_c.params[2] * xx2c\n",
    "\n",
    "xx1h, xx2h = np.meshgrid(np.linspace(heat_d.deltaT.min(), heat_d.deltaT.max(), 100), \n",
    "                         np.linspace(heat_d.Solar.min(), heat_d.Solar.max(), 100))\n",
    "Zh = results_h.params[0] + results_h.params[1] * xx1h + results_h.params[2] * xx2h\n",
    "\n",
    "fig = plt.figure(figsize=(12, 7))\n",
    "ax = fig.add_subplot(111, projection='3d')\n",
    "ax.scatter(cool_d.deltaT, cool_d.Solar, cool_d.Cool, marker = 's', label='Observations Cooling')\n",
    "ax.scatter(heat_d.deltaT, heat_d.Solar, heat_d.Heat, label='Observations Heating')\n",
    "ax.plot_surface(xx1c, xx2c, Zc, color='r', alpha=0.8, linewidth=0)\n",
    "ax.plot_surface(xx1h, xx2h, Zh, color='black', alpha=0.8, linewidth=0)\n",
    "\n",
    "ax.set_xlabel('\\u0394T [\\u00B0C]')\n",
    "ax.set_ylabel('Solar Radiation [W/m2]')\n",
    "ax.set_zlabel('Energy Consumptions [kWh]')\n",
    "ax.set_title('Energy Consumption Regression using Solar Radiation (10 minutes resolution)')\n",
    "ax.view_init(elev=34, azim=-35)\n",
    "# # rotate the axes and update\n",
    "# for angle in range(0, 360):\n",
    "#     ax.view_init(45, angle)\n",
    "#     plt.draw()\n",
    "#     plt.pause(.001)\n",
    "scatter_cool = Line2D([0], [0], marker='s',color='white', label='Observations Cooling',\n",
    "                      markerfacecolor='blue', markersize=15)\n",
    "scatter_heat = Line2D([0], [0], marker='o',color='white', label='Observations Heating',\n",
    "                      markerfacecolor='orange', markersize=15)\n",
    "surf_cool = mpatches.Patch(color='red',label='Surface Cooling')\n",
    "surf_heat = mpatches.Patch(color='black',label='Surface Heating')\n",
    "ax.legend(handles=[scatter_cool,scatter_heat,surf_cool,surf_heat])\n",
    "plt.show()"
   ]
  },
  {
   "cell_type": "markdown",
   "metadata": {},
   "source": [
    "Compute RMSE and summary of results"
   ]
  },
  {
   "cell_type": "code",
   "execution_count": null,
   "metadata": {},
   "outputs": [],
   "source": [
    "rmse_c = mean_squared_error(cool_d.Cool.values, results_c.predict(), squared=False)\n",
    "print('The RMSE for 10 minutes resolution for Cooling Consumptions is: '+str(rmse_c)+' kWh')\n",
    "results_c.summary()"
   ]
  },
  {
   "cell_type": "code",
   "execution_count": null,
   "metadata": {},
   "outputs": [],
   "source": [
    "rmse_h = mean_squared_error(heat_d.Heat.values, results_h.predict(), squared=False)\n",
    "print('The RMSE for 10 minutes resolution for Heating Consumptions is: '+str(rmse_h)+' kWh')\n",
    "results_h.summary()"
   ]
  },
  {
   "cell_type": "markdown",
   "metadata": {},
   "source": [
    "# Hourly"
   ]
  },
  {
   "cell_type": "code",
   "execution_count": null,
   "metadata": {},
   "outputs": [],
   "source": [
    "df=df.resample('H').mean()\n",
    "df=df.dropna()"
   ]
  },
  {
   "cell_type": "markdown",
   "metadata": {},
   "source": [
    "Extract the cooling and heating dataframes"
   ]
  },
  {
   "cell_type": "code",
   "execution_count": null,
   "metadata": {},
   "outputs": [],
   "source": [
    "cool_d = df.where(df['Cool']!=0.0).dropna()\n",
    "heat_d = df.where(df['Heat']!=0.0).dropna()"
   ]
  },
  {
   "cell_type": "markdown",
   "metadata": {},
   "source": [
    "Fit the regression models"
   ]
  },
  {
   "cell_type": "code",
   "execution_count": null,
   "metadata": {},
   "outputs": [],
   "source": [
    "y_h = heat_d.Heat\n",
    "y_c = cool_d.Cool\n",
    "X_h = heat_d.loc[:, ['deltaT', 'Solar']]\n",
    "X_c = cool_d.loc[:, ['deltaT', 'Solar']]\n",
    "X_h = sm.add_constant(X_h)\n",
    "X_c = sm.add_constant(X_c)"
   ]
  },
  {
   "cell_type": "code",
   "execution_count": null,
   "metadata": {},
   "outputs": [],
   "source": [
    "model_h = sm.OLS(y_h,X_h)\n",
    "model_c = sm.OLS(y_c,X_c)"
   ]
  },
  {
   "cell_type": "code",
   "execution_count": null,
   "metadata": {},
   "outputs": [],
   "source": [
    "results_h = model_h.fit()\n",
    "results_c = model_c.fit()"
   ]
  },
  {
   "cell_type": "markdown",
   "metadata": {},
   "source": [
    "Plot the results"
   ]
  },
  {
   "cell_type": "code",
   "execution_count": null,
   "metadata": {},
   "outputs": [],
   "source": [
    "xx1c, xx2c = np.meshgrid(np.linspace(cool_d.deltaT.min(), cool_d.deltaT.max(), 100), \n",
    "                         np.linspace(cool_d.Solar.min(), cool_d.Solar.max(), 100))\n",
    "Zc = results_c.params[0] + results_c.params[1] * xx1c + results_c.params[2] * xx2c\n",
    "\n",
    "xx1h, xx2h = np.meshgrid(np.linspace(heat_d.deltaT.min(), heat_d.deltaT.max(), 100), \n",
    "                         np.linspace(heat_d.Solar.min(), heat_d.Solar.max(), 100))\n",
    "Zh = results_h.params[0] + results_h.params[1] * xx1h + results_h.params[2] * xx2h\n",
    "\n",
    "fig = plt.figure(figsize=(12, 7))\n",
    "ax = fig.add_subplot(111, projection='3d')\n",
    "ax.scatter(cool_d.deltaT, cool_d.Solar, cool_d.Cool, marker = 's', label='Observations Cooling')\n",
    "ax.scatter(heat_d.deltaT, heat_d.Solar, heat_d.Heat, label='Observations Heating')\n",
    "ax.plot_surface(xx1c, xx2c, Zc, color='r', alpha=0.8, linewidth=0)\n",
    "ax.plot_surface(xx1h, xx2h, Zh, color='black', alpha=0.8, linewidth=0)\n",
    "ax.set_xlabel('\\u0394T [\\u00B0C]')\n",
    "ax.set_ylabel('Solar Radiation [W/m2]')\n",
    "ax.set_zlabel('Energy Consumptions [kWh]')\n",
    "ax.set_title('Energy Consumption Regression using Solar Radiation (Hourly resolution)')\n",
    "# ax.view_init(elev=34, azim=-35)\n",
    "# ax.view_init(elev=17, azim=-83)\n",
    "scatter_cool = Line2D([0], [0], marker='s',color='white', label='Observations Cooling',\n",
    "                      markerfacecolor='blue', markersize=15)\n",
    "scatter_heat = Line2D([0], [0], marker='o',color='white', label='Observations Heating',\n",
    "                      markerfacecolor='orange', markersize=15)\n",
    "surf_cool = mpatches.Patch(color='red',label='Surface Cooling')\n",
    "surf_heat = mpatches.Patch(color='black',label='Surface Heating')\n",
    "ax.legend(handles=[scatter_cool,scatter_heat,surf_cool,surf_heat])\n",
    "plt.show()"
   ]
  },
  {
   "cell_type": "markdown",
   "metadata": {},
   "source": [
    "Compute RMSE and summary of results"
   ]
  },
  {
   "cell_type": "code",
   "execution_count": null,
   "metadata": {},
   "outputs": [],
   "source": [
    "rmse_c = mean_squared_error(cool_d.Cool.values, results_c.predict(), squared=False)\n",
    "print('The RMSE for hourly resolution for Cooling Consumptions is: '+str(rmse_c)+' kWh')\n",
    "results_c.summary()"
   ]
  },
  {
   "cell_type": "code",
   "execution_count": null,
   "metadata": {},
   "outputs": [],
   "source": [
    "rmse_h = mean_squared_error(heat_d.Heat.values, results_h.predict(), squared=False)\n",
    "print('The RMSE for hourly resolution for Heating Consumptions is: '+str(rmse_h)+' kWh')\n",
    "results_h.summary()"
   ]
  },
  {
   "cell_type": "markdown",
   "metadata": {},
   "source": [
    "# Daily"
   ]
  },
  {
   "cell_type": "code",
   "execution_count": null,
   "metadata": {},
   "outputs": [],
   "source": [
    "df=df.resample('D').mean()\n",
    "df=df.dropna()"
   ]
  },
  {
   "cell_type": "markdown",
   "metadata": {},
   "source": [
    "Extract the cooling and heating dataframes"
   ]
  },
  {
   "cell_type": "code",
   "execution_count": null,
   "metadata": {},
   "outputs": [],
   "source": [
    "cool_d = df.where(df['Cool']!=0.0).dropna()\n",
    "heat_d = df.where(df['Heat']!=0.0).dropna()"
   ]
  },
  {
   "cell_type": "markdown",
   "metadata": {},
   "source": [
    "Fit the regression models"
   ]
  },
  {
   "cell_type": "code",
   "execution_count": null,
   "metadata": {},
   "outputs": [],
   "source": [
    "y_h = heat_d.Heat\n",
    "y_c = cool_d.Cool\n",
    "X_h = heat_d.loc[:, ['deltaT', 'Solar']]\n",
    "X_c = cool_d.loc[:, ['deltaT', 'Solar']]\n",
    "X_h = sm.add_constant(X_h)\n",
    "X_c = sm.add_constant(X_c)"
   ]
  },
  {
   "cell_type": "code",
   "execution_count": null,
   "metadata": {},
   "outputs": [],
   "source": [
    "model_h = sm.OLS(y_h,X_h)\n",
    "model_c = sm.OLS(y_c,X_c)"
   ]
  },
  {
   "cell_type": "code",
   "execution_count": null,
   "metadata": {},
   "outputs": [],
   "source": [
    "results_h = model_h.fit()\n",
    "results_c = model_c.fit()"
   ]
  },
  {
   "cell_type": "markdown",
   "metadata": {},
   "source": [
    "Plot the results"
   ]
  },
  {
   "cell_type": "code",
   "execution_count": null,
   "metadata": {},
   "outputs": [],
   "source": [
    "xx1c, xx2c = np.meshgrid(np.linspace(cool_d.deltaT.min(), cool_d.deltaT.max(), 100), \n",
    "                         np.linspace(cool_d.Solar.min(), cool_d.Solar.max(), 100))\n",
    "Zc = results_c.params[0] + results_c.params[1] * xx1c + results_c.params[2] * xx2c\n",
    "\n",
    "xx1h, xx2h = np.meshgrid(np.linspace(heat_d.deltaT.min(), heat_d.deltaT.max(), 100), \n",
    "                         np.linspace(heat_d.Solar.min(), heat_d.Solar.max(), 100))\n",
    "Zh = results_h.params[0] + results_h.params[1] * xx1h + results_h.params[2] * xx2h\n",
    "\n",
    "fig = plt.figure(figsize=(12, 7))\n",
    "ax = fig.add_subplot(111, projection='3d')\n",
    "ax.scatter(cool_d.deltaT, cool_d.Solar, cool_d.Cool, marker = 's')\n",
    "ax.scatter(heat_d.deltaT, heat_d.Solar, heat_d.Heat)\n",
    "ax.plot_surface(xx1c, xx2c, Zc, color='r', alpha=0.8, linewidth=0)\n",
    "ax.plot_surface(xx1h, xx2h, Zh, color='black', alpha=0.8, linewidth=0)\n",
    "ax.set_xlabel('\\u0394T [\\u00B0C]')\n",
    "ax.set_ylabel('Solar Radiation [W/m2]')\n",
    "ax.set_zlabel('Energy Consumptions [kWh]]')\n",
    "ax.set_title('Energy Consumption Regression using Solar Radiation (Dayly resolution)')\n",
    "ax.view_init(elev=17, azim=-83)\n",
    "# # rotate the axes and update\n",
    "# for angle in range(0, 360):\n",
    "#     ax.view_init(45, angle)\n",
    "#     plt.draw()\n",
    "#     plt.pause(.001)\n",
    "scatter_cool = Line2D([0], [0], marker='s',color='white', label='Observations Cooling',\n",
    "                      markerfacecolor='blue', markersize=15)\n",
    "scatter_heat = Line2D([0], [0], marker='o',color='white', label='Observations Heating',\n",
    "                      markerfacecolor='orange', markersize=15)\n",
    "surf_cool = mpatches.Patch(color='red',label='Surface Cooling')\n",
    "surf_heat = mpatches.Patch(color='black',label='Surface Heating')\n",
    "ax.legend(handles=[scatter_cool,scatter_heat,surf_cool,surf_heat])\n",
    "plt.show()"
   ]
  },
  {
   "cell_type": "markdown",
   "metadata": {},
   "source": [
    "Compute RMSE and summary of results"
   ]
  },
  {
   "cell_type": "code",
   "execution_count": null,
   "metadata": {},
   "outputs": [],
   "source": [
    "rmse_c = mean_squared_error(cool_d.Cool.values, results_c.predict(), squared=False)\n",
    "print('The RMSE for dayly resolution for Cooling Consumptions is: '+str(rmse_c)+' kWh')\n",
    "results_c.summary()"
   ]
  },
  {
   "cell_type": "code",
   "execution_count": null,
   "metadata": {},
   "outputs": [],
   "source": [
    "rmse_h = mean_squared_error(heat_d.Heat.values, results_h.predict(), squared=False)\n",
    "print('The RMSE for dayly resolution for Heating Consumptions is: '+str(rmse_h)+' kWh')\n",
    "results_h.summary()"
   ]
  },
  {
   "cell_type": "markdown",
   "metadata": {},
   "source": [
    "# Weekly"
   ]
  },
  {
   "cell_type": "code",
   "execution_count": null,
   "metadata": {},
   "outputs": [],
   "source": [
    "df=df.resample('W').mean()\n",
    "df=df.dropna()"
   ]
  },
  {
   "cell_type": "markdown",
   "metadata": {},
   "source": [
    "Extract the cooling and heating dataframes"
   ]
  },
  {
   "cell_type": "code",
   "execution_count": null,
   "metadata": {},
   "outputs": [],
   "source": [
    "cool_d = df.where(df['Cool']!=0.0).dropna()\n",
    "heat_d = df.where(df['Heat']!=0.0).dropna()\n",
    "heat_d.drop(heat_d.index[0], inplace=True)\n",
    "heat_d.drop(heat_d.index[-1],inplace=True)"
   ]
  },
  {
   "cell_type": "markdown",
   "metadata": {},
   "source": [
    "Fit the regression models"
   ]
  },
  {
   "cell_type": "code",
   "execution_count": null,
   "metadata": {},
   "outputs": [],
   "source": [
    "y_h = heat_d.Heat\n",
    "y_c = cool_d.Cool\n",
    "X_h = heat_d.loc[:, ['deltaT', 'Solar']]\n",
    "X_c = cool_d.loc[:, ['deltaT', 'Solar']]\n",
    "X_h = sm.add_constant(X_h)\n",
    "X_c = sm.add_constant(X_c)"
   ]
  },
  {
   "cell_type": "code",
   "execution_count": null,
   "metadata": {},
   "outputs": [],
   "source": [
    "model_h = sm.OLS(y_h,X_h)\n",
    "model_c = sm.OLS(y_c,X_c)"
   ]
  },
  {
   "cell_type": "code",
   "execution_count": null,
   "metadata": {},
   "outputs": [],
   "source": [
    "results_h = model_h.fit()\n",
    "results_c = model_c.fit()"
   ]
  },
  {
   "cell_type": "markdown",
   "metadata": {},
   "source": [
    "Plot the results"
   ]
  },
  {
   "cell_type": "code",
   "execution_count": null,
   "metadata": {},
   "outputs": [],
   "source": [
    "xx1c, xx2c = np.meshgrid(np.linspace(cool_d.deltaT.min(), cool_d.deltaT.max(), 100), \n",
    "                         np.linspace(cool_d.Solar.min(), cool_d.Solar.max(), 100))\n",
    "Zc = results_c.params[0] + results_c.params[1] * xx1c + results_c.params[2] * xx2c\n",
    "\n",
    "xx1h, xx2h = np.meshgrid(np.linspace(heat_d.deltaT.min(), heat_d.deltaT.max(), 100), \n",
    "                         np.linspace(heat_d.Solar.min(), heat_d.Solar.max(), 100))\n",
    "Zh = results_h.params[0] + results_h.params[1] * xx1h + results_h.params[2] * xx2h\n",
    "\n",
    "fig = plt.figure(figsize=(12, 7))\n",
    "ax = fig.add_subplot(111, projection='3d')\n",
    "ax.scatter(cool_d.deltaT, cool_d.Solar, cool_d.Cool, marker = 's',label='Observations Cooling')\n",
    "ax.scatter(heat_d.deltaT, heat_d.Solar, heat_d.Heat, label='Observations Heating')\n",
    "ax.plot_surface(xx1c, xx2c, Zc, color='r', alpha=0.8, linewidth=0)\n",
    "ax.plot_surface(xx1h, xx2h, Zh, color='black', alpha=0.8, linewidth=0)\n",
    "\n",
    "ax.set_xlabel('\\u0394T [\\u00B0C]')\n",
    "ax.set_ylabel('Solar Radiation [W/m2]')\n",
    "ax.set_zlabel('Energy Consumptions [kWh]]')\n",
    "ax.set_title('Energy Consumption Regression using Solar Radiation (Weekly resolution)')\n",
    "#ax.view_init(elev=18, azim=-77)\n",
    "ax.view_init(elev=29, azim=-72)\n",
    "\n",
    "scatter_cool = Line2D([0], [0], marker='s',color='white', label='Observations Cooling',\n",
    "                      markerfacecolor='blue', markersize=15)\n",
    "scatter_heat = Line2D([0], [0], marker='o',color='white', label='Observations Heating',\n",
    "                      markerfacecolor='orange', markersize=15)\n",
    "surf_cool = mpatches.Patch(color='red',label='Surface Cooling')\n",
    "surf_heat = mpatches.Patch(color='black',label='Surface Heating')\n",
    "ax.legend(handles=[scatter_cool,scatter_heat,surf_cool,surf_heat])\n",
    "plt.show()\n"
   ]
  },
  {
   "cell_type": "markdown",
   "metadata": {},
   "source": [
    "Compute RMSE and summary of results"
   ]
  },
  {
   "cell_type": "code",
   "execution_count": null,
   "metadata": {},
   "outputs": [],
   "source": [
    "rmse_c = mean_squared_error(cool_d.Cool.values, results_c.predict(), squared=False)\n",
    "print('The RMSE for weekly resolution for Cooling Consumptions is: '+str(rmse_c)+' kWh')\n",
    "results_c.summary()"
   ]
  },
  {
   "cell_type": "code",
   "execution_count": null,
   "metadata": {},
   "outputs": [],
   "source": [
    "rmse_h = mean_squared_error(heat_d.Heat.values, results_h.predict(), squared=False)\n",
    "print('The RMSE for weekly resolution for Heating Consumptions is: '+str(rmse_h)+' kWh')\n",
    "results_h.summary()"
   ]
  }
 ],
 "metadata": {
  "kernelspec": {
   "display_name": "Python 3",
   "language": "python",
   "name": "python3"
  },
  "language_info": {
   "codemirror_mode": {
    "name": "ipython",
    "version": 3
   },
   "file_extension": ".py",
   "mimetype": "text/x-python",
   "name": "python",
   "nbconvert_exporter": "python",
   "pygments_lexer": "ipython3",
   "version": "3.8.6"
  }
 },
 "nbformat": 4,
 "nbformat_minor": 2
}
