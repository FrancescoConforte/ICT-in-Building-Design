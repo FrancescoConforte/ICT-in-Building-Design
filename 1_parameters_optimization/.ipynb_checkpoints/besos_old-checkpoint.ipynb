{
 "cells": [
  {
   "cell_type": "code",
   "execution_count": 1,
   "metadata": {},
   "outputs": [],
   "source": [
    "def argThick(window_uval):\n",
    "    window_thick = .003 # Windows thickness\n",
    "    window_lambda = .9 # Windows conductivity\n",
    "    arg_lambda = .016 # Argon conductivity at ambient temperature\n",
    "    arg_thick = 0.5*(1/window_uval - 3*window_thick/window_lambda)*arg_lambda\n",
    "    return arg_thick"
   ]
  },
  {
   "cell_type": "code",
   "execution_count": 2,
   "metadata": {
    "scrolled": true
   },
   "outputs": [],
   "source": [
    "import matplotlib.pyplot as plt\n",
    "from matplotlib.colors import LinearSegmentedColormap\n",
    "import seaborn as sns\n",
    "from besos import eppy_funcs as ef\n",
    "from besos import sampling\n",
    "from besos.evaluator import EvaluatorEP\n",
    "from besos.parameters import RangeParameter, FieldSelector, FilterSelector, Parameter, expand_plist, wwr, CategoryParameter, GenericSelector\n",
    "from besos.problem import EPProblem\n",
    "import pandas as pd\n",
    "import numpy as np\n",
    "import os\n",
    "from copy import deepcopy"
   ]
  },
  {
   "cell_type": "markdown",
   "metadata": {},
   "source": [
    "### Load the building from .idf file"
   ]
  },
  {
   "cell_type": "code",
   "execution_count": 3,
   "metadata": {},
   "outputs": [],
   "source": [
    "title = 'office_oslo'\n",
    "building = ef.get_building(f'../model/{title}.idf')"
   ]
  },
  {
   "cell_type": "markdown",
   "metadata": {},
   "source": [
    "### Generate and save the 4 scenarios\n",
    "(scenario) (Orientation) (Nat Ventilation)\n",
    "\n",
    "s1       =>      N      |       on\n",
    "\n",
    "s2       =>      N      |       off\n",
    "\n",
    "s3       =>      E      |       on\n",
    "\n",
    "s4       =>      E      |       off"
   ]
  },
  {
   "cell_type": "code",
   "execution_count": 4,
   "metadata": {},
   "outputs": [],
   "source": [
    "if len(os.listdir('../model/')) < 4:\n",
    "    s1 = deepcopy(building)\n",
    "    s2 = deepcopy(building)\n",
    "    s3 = deepcopy(building)\n",
    "    s4 = deepcopy(building)\n",
    "    # Two of them oriented toward East\n",
    "    s3.idfobjects['Building'][0]['North_Axis'] = 90.0\n",
    "    s4.idfobjects['Building'][0]['North_Axis'] = 90.0\n",
    "    # Two of them without ventilative cooling\n",
    "    for i in range(3):\n",
    "        s2.idfobjects['ZoneVentilation:DesignFlowRate'][i]['Design_Flow_Rate'] = 0\n",
    "        s4.idfobjects['ZoneVentilation:DesignFlowRate'][i]['Design_Flow_Rate'] = 0\n",
    "    s1.saveas(f'../model/{title}_N_on.idf')\n",
    "    s2.saveas(f'../model/{title}_N_off.idf')\n",
    "    s3.saveas(f'../model/{title}_E_on.idf')\n",
    "    s4.saveas(f'../model/{title}_E_off.idf')\n",
    "else:\n",
    "    scenarios = []\n",
    "    for fname in os.listdir('../model/'):\n",
    "        scenarios.append((fname, ef.get_building('../model/' + fname)))"
   ]
  },
  {
   "cell_type": "markdown",
   "metadata": {},
   "source": [
    "### Define the problem"
   ]
  },
  {
   "cell_type": "markdown",
   "metadata": {},
   "source": [
    "#### Selectors"
   ]
  },
  {
   "cell_type": "code",
   "execution_count": 5,
   "metadata": {},
   "outputs": [],
   "source": [
    "insulation = FieldSelector(\n",
    "    class_name='Material', \n",
    "    object_name='XPS Extruded Polystyrene  - CO2 Blowing_.O957',\n",
    "    field_name='Thickness'\n",
    ")\n",
    "arg1 = FieldSelector(\n",
    "    class_name='WindowMaterial:Gas',\n",
    "    object_name='1004',\n",
    "    field_name='Thickness'\n",
    ")\n",
    "# arg2 = FieldSelector(\n",
    "#     class_name='WindowMaterial:Gas',\n",
    "#     object_name='Half thickness 1004',\n",
    "#     field_name='Thickness'\n",
    "# )"
   ]
  },
  {
   "cell_type": "markdown",
   "metadata": {},
   "source": [
    "#### Parameters\n",
    "I'm selecting 4 parameter that besos will tune according to a desired range. They respectively are the insulation thickness of the wall (which is proportional to U-value of opaque surfaces) and windows to wall ratio and argon insulation thickness (proportional to the U-value of transparent surfaces)"
   ]
  },
  {
   "cell_type": "code",
   "execution_count": 6,
   "metadata": {},
   "outputs": [
    {
     "name": "stderr",
     "output_type": "stream",
     "text": [
      "/home/ict4bd/Downloads/myenv/lib/python3.8/site-packages/besos/parameters.py:559: UserWarning: wwr is intended to be used with RangeParameter. Your value_descriptor is CategoryParameter(options=[0.15, 0.5, 0.9])\n",
      "  warnings.warn(\n"
     ]
    }
   ],
   "source": [
    "# Insulation Thickness: from 0cm to 35cm\n",
    "# WWR: [15%, 50%, 90%]\n",
    "parameters = [\n",
    "    Parameter(\n",
    "        selector=insulation,\n",
    "        value_descriptor = RangeParameter(0.0,0.35),\n",
    "        name='Insulation Thickness'\n",
    "    ),\n",
    "    wwr(\n",
    "        CategoryParameter(options=[.15,.5,.9])\n",
    "    ),\n",
    "    Parameter(\n",
    "        selector=arg1,\n",
    "        value_descriptor = RangeParameter(0.0, 1),\n",
    "        name='Argon1'\n",
    "    ),\n",
    "#     Parameter(\n",
    "#         selector=arg2,\n",
    "#         value_descriptor = RangeParameter(0.0, 1),\n",
    "#         name='Argon2'\n",
    "#     )\n",
    "]"
   ]
  },
  {
   "cell_type": "markdown",
   "metadata": {},
   "source": [
    "#### Objectives"
   ]
  },
  {
   "cell_type": "code",
   "execution_count": 7,
   "metadata": {},
   "outputs": [],
   "source": [
    "objectives = [\n",
    "    'InteriorLights',\n",
    "    'DistrictHeating:Facility',\n",
    "    'DistrictCooling:Facility'\n",
    "]\n",
    "\n",
    "problem=EPProblem(parameters, objectives)"
   ]
  },
  {
   "cell_type": "markdown",
   "metadata": {},
   "source": [
    "#### Samples\n",
    "Generating various combination of the paramaters to test"
   ]
  },
  {
   "cell_type": "code",
   "execution_count": 8,
   "metadata": {},
   "outputs": [],
   "source": [
    "samples_ins = np.linspace(.05, .35, 7)\n",
    "samples_wwr = [.15, .5, .9]\n",
    "samples_ar1 = [argThick(x) for x in np.linspace(.7, 5, 3)]\n",
    "samples_ar2 = samples_ar1.copy()\n",
    "\n",
    "lp1, lp2, lp3, lp4 = pd.core.reshape.util.cartesian_product([\n",
    "    samples_ins,\n",
    "    samples_wwr,\n",
    "    samples_ar1,\n",
    "    samples_ar2\n",
    "])\n",
    "\n",
    "samples = pd.DataFrame()\n",
    "samples['Insulation Thickness'] = lp1\n",
    "samples['Window to Wall Ratio'] = lp2\n",
    "samples['Argon1'] = lp3\n",
    "samples['Argon2'] = lp4"
   ]
  },
  {
   "cell_type": "markdown",
   "metadata": {},
   "source": [
    "#### Simulation\n",
    "A simulation will be runned for each sample. The outputs of the objective parameters will be saved in a csv file."
   ]
  },
  {
   "cell_type": "code",
   "execution_count": 9,
   "metadata": {
    "scrolled": true
   },
   "outputs": [
    {
     "name": "stdout",
     "output_type": "stream",
     "text": [
      "Performing evaluation on office_oslo_N_off.idf...\n"
     ]
    },
    {
     "data": {
      "application/vnd.jupyter.widget-view+json": {
       "model_id": "8ead7d05f1b84c338a66905719a8058c",
       "version_major": 2,
       "version_minor": 0
      },
      "text/plain": [
       "HBox(children=(FloatProgress(value=0.0, description='Executing', max=4.0, style=ProgressStyle(description_widt…"
      ]
     },
     "metadata": {},
     "output_type": "display_data"
    },
    {
     "name": "stdout",
     "output_type": "stream",
     "text": [
      "\n"
     ]
    },
    {
     "ename": "KeyError",
     "evalue": "'Electricity:Facility'",
     "output_type": "error",
     "traceback": [
      "\u001b[0;31m---------------------------------------------------------------------------\u001b[0m",
      "\u001b[0;31mKeyError\u001b[0m                                  Traceback (most recent call last)",
      "\u001b[0;32m~/Downloads/myenv/lib/python3.8/site-packages/pandas/core/indexes/base.py\u001b[0m in \u001b[0;36mget_loc\u001b[0;34m(self, key, method, tolerance)\u001b[0m\n\u001b[1;32m   2888\u001b[0m             \u001b[0;32mtry\u001b[0m\u001b[0;34m:\u001b[0m\u001b[0;34m\u001b[0m\u001b[0;34m\u001b[0m\u001b[0m\n\u001b[0;32m-> 2889\u001b[0;31m                 \u001b[0;32mreturn\u001b[0m \u001b[0mself\u001b[0m\u001b[0;34m.\u001b[0m\u001b[0m_engine\u001b[0m\u001b[0;34m.\u001b[0m\u001b[0mget_loc\u001b[0m\u001b[0;34m(\u001b[0m\u001b[0mcasted_key\u001b[0m\u001b[0;34m)\u001b[0m\u001b[0;34m\u001b[0m\u001b[0;34m\u001b[0m\u001b[0m\n\u001b[0m\u001b[1;32m   2890\u001b[0m             \u001b[0;32mexcept\u001b[0m \u001b[0mKeyError\u001b[0m \u001b[0;32mas\u001b[0m \u001b[0merr\u001b[0m\u001b[0;34m:\u001b[0m\u001b[0;34m\u001b[0m\u001b[0;34m\u001b[0m\u001b[0m\n",
      "\u001b[0;32mpandas/_libs/index.pyx\u001b[0m in \u001b[0;36mpandas._libs.index.IndexEngine.get_loc\u001b[0;34m()\u001b[0m\n",
      "\u001b[0;32mpandas/_libs/index.pyx\u001b[0m in \u001b[0;36mpandas._libs.index.IndexEngine.get_loc\u001b[0;34m()\u001b[0m\n",
      "\u001b[0;32mpandas/_libs/hashtable_class_helper.pxi\u001b[0m in \u001b[0;36mpandas._libs.hashtable.PyObjectHashTable.get_item\u001b[0;34m()\u001b[0m\n",
      "\u001b[0;32mpandas/_libs/hashtable_class_helper.pxi\u001b[0m in \u001b[0;36mpandas._libs.hashtable.PyObjectHashTable.get_item\u001b[0;34m()\u001b[0m\n",
      "\u001b[0;31mKeyError\u001b[0m: 'Electricity:Facility'",
      "\nThe above exception was the direct cause of the following exception:\n",
      "\u001b[0;31mKeyError\u001b[0m                                  Traceback (most recent call last)",
      "\u001b[0;32m<ipython-input-9-2850ed5f8b6b>\u001b[0m in \u001b[0;36m<module>\u001b[0;34m\u001b[0m\n\u001b[1;32m     13\u001b[0m \u001b[0;34m\u001b[0m\u001b[0m\n\u001b[1;32m     14\u001b[0m     \u001b[0;31m# conversion to kW/h\u001b[0m\u001b[0;34m\u001b[0m\u001b[0;34m\u001b[0m\u001b[0;34m\u001b[0m\u001b[0m\n\u001b[0;32m---> 15\u001b[0;31m     \u001b[0moutputs\u001b[0m\u001b[0;34m[\u001b[0m\u001b[0;34m'Electricity:Facility'\u001b[0m\u001b[0;34m]\u001b[0m\u001b[0;34m/=\u001b[0m\u001b[0;36m3.6e6\u001b[0m\u001b[0;34m\u001b[0m\u001b[0;34m\u001b[0m\u001b[0m\n\u001b[0m\u001b[1;32m     16\u001b[0m     \u001b[0moutputs\u001b[0m\u001b[0;34m[\u001b[0m\u001b[0;34m'DistrictHeating:Facility'\u001b[0m\u001b[0;34m]\u001b[0m\u001b[0;34m/=\u001b[0m\u001b[0;36m3.6e6\u001b[0m\u001b[0;34m\u001b[0m\u001b[0;34m\u001b[0m\u001b[0m\n\u001b[1;32m     17\u001b[0m     \u001b[0moutputs\u001b[0m\u001b[0;34m[\u001b[0m\u001b[0;34m'DistrictCooling:Facility'\u001b[0m\u001b[0;34m]\u001b[0m\u001b[0;34m/=\u001b[0m\u001b[0;36m3.6e6\u001b[0m\u001b[0;34m\u001b[0m\u001b[0;34m\u001b[0m\u001b[0m\n",
      "\u001b[0;32m~/Downloads/myenv/lib/python3.8/site-packages/pandas/core/frame.py\u001b[0m in \u001b[0;36m__getitem__\u001b[0;34m(self, key)\u001b[0m\n\u001b[1;32m   2897\u001b[0m             \u001b[0;32mif\u001b[0m \u001b[0mself\u001b[0m\u001b[0;34m.\u001b[0m\u001b[0mcolumns\u001b[0m\u001b[0;34m.\u001b[0m\u001b[0mnlevels\u001b[0m \u001b[0;34m>\u001b[0m \u001b[0;36m1\u001b[0m\u001b[0;34m:\u001b[0m\u001b[0;34m\u001b[0m\u001b[0;34m\u001b[0m\u001b[0m\n\u001b[1;32m   2898\u001b[0m                 \u001b[0;32mreturn\u001b[0m \u001b[0mself\u001b[0m\u001b[0;34m.\u001b[0m\u001b[0m_getitem_multilevel\u001b[0m\u001b[0;34m(\u001b[0m\u001b[0mkey\u001b[0m\u001b[0;34m)\u001b[0m\u001b[0;34m\u001b[0m\u001b[0;34m\u001b[0m\u001b[0m\n\u001b[0;32m-> 2899\u001b[0;31m             \u001b[0mindexer\u001b[0m \u001b[0;34m=\u001b[0m \u001b[0mself\u001b[0m\u001b[0;34m.\u001b[0m\u001b[0mcolumns\u001b[0m\u001b[0;34m.\u001b[0m\u001b[0mget_loc\u001b[0m\u001b[0;34m(\u001b[0m\u001b[0mkey\u001b[0m\u001b[0;34m)\u001b[0m\u001b[0;34m\u001b[0m\u001b[0;34m\u001b[0m\u001b[0m\n\u001b[0m\u001b[1;32m   2900\u001b[0m             \u001b[0;32mif\u001b[0m \u001b[0mis_integer\u001b[0m\u001b[0;34m(\u001b[0m\u001b[0mindexer\u001b[0m\u001b[0;34m)\u001b[0m\u001b[0;34m:\u001b[0m\u001b[0;34m\u001b[0m\u001b[0;34m\u001b[0m\u001b[0m\n\u001b[1;32m   2901\u001b[0m                 \u001b[0mindexer\u001b[0m \u001b[0;34m=\u001b[0m \u001b[0;34m[\u001b[0m\u001b[0mindexer\u001b[0m\u001b[0;34m]\u001b[0m\u001b[0;34m\u001b[0m\u001b[0;34m\u001b[0m\u001b[0m\n",
      "\u001b[0;32m~/Downloads/myenv/lib/python3.8/site-packages/pandas/core/indexes/base.py\u001b[0m in \u001b[0;36mget_loc\u001b[0;34m(self, key, method, tolerance)\u001b[0m\n\u001b[1;32m   2889\u001b[0m                 \u001b[0;32mreturn\u001b[0m \u001b[0mself\u001b[0m\u001b[0;34m.\u001b[0m\u001b[0m_engine\u001b[0m\u001b[0;34m.\u001b[0m\u001b[0mget_loc\u001b[0m\u001b[0;34m(\u001b[0m\u001b[0mcasted_key\u001b[0m\u001b[0;34m)\u001b[0m\u001b[0;34m\u001b[0m\u001b[0;34m\u001b[0m\u001b[0m\n\u001b[1;32m   2890\u001b[0m             \u001b[0;32mexcept\u001b[0m \u001b[0mKeyError\u001b[0m \u001b[0;32mas\u001b[0m \u001b[0merr\u001b[0m\u001b[0;34m:\u001b[0m\u001b[0;34m\u001b[0m\u001b[0;34m\u001b[0m\u001b[0m\n\u001b[0;32m-> 2891\u001b[0;31m                 \u001b[0;32mraise\u001b[0m \u001b[0mKeyError\u001b[0m\u001b[0;34m(\u001b[0m\u001b[0mkey\u001b[0m\u001b[0;34m)\u001b[0m \u001b[0;32mfrom\u001b[0m \u001b[0merr\u001b[0m\u001b[0;34m\u001b[0m\u001b[0;34m\u001b[0m\u001b[0m\n\u001b[0m\u001b[1;32m   2892\u001b[0m \u001b[0;34m\u001b[0m\u001b[0m\n\u001b[1;32m   2893\u001b[0m         \u001b[0;32mif\u001b[0m \u001b[0mtolerance\u001b[0m \u001b[0;32mis\u001b[0m \u001b[0;32mnot\u001b[0m \u001b[0;32mNone\u001b[0m\u001b[0;34m:\u001b[0m\u001b[0;34m\u001b[0m\u001b[0;34m\u001b[0m\u001b[0m\n",
      "\u001b[0;31mKeyError\u001b[0m: 'Electricity:Facility'"
     ]
    }
   ],
   "source": [
    "for scenario in scenarios:\n",
    "    if os.isfile(f'../data/{scenario[0][:-4]}.csv'):\n",
    "        continue\n",
    "    params = scenario[0][:-4].split(\"_\")[2:]\n",
    "    evaluator = EvaluatorEP(\n",
    "        problem, \n",
    "        scenario[1], \n",
    "        out_dir=f'outputdir_{params[0]}_{params[1]}', \n",
    "        err_dir=f'errdir_{params[0]}_{params[1]}', \n",
    "        epw='../weather/oslo_epw_2016.epw')\n",
    "    print(f'Performing evaluation on {scenario[0]}...')\n",
    "    outputs = evaluator.df_apply(samples, keep_input=True)\n",
    "\n",
    "    # conversion to kW/h                    \n",
    "    outputs['InteriorLights']/=3.6e6\n",
    "    outputs['DistrictHeating:Facility']/=3.6e6\n",
    "    outputs['DistrictCooling:Facility']/=3.6e6\n",
    "    outputs['TotalConsumption']=outputs['DistrictHeating:Facility']+outputs['DistrictCooling:Facility']\n",
    "\n",
    "    outputs.to_csv(f'../data/{scenario[0][:-4]}.csv')\n",
    "    print('File Saved.')\n",
    "    \n",
    "    outputs = outputs.drop(columns=['Argon1', 'TotalConsumption']).rename(columns={\n",
    "        'Argon2':'Ar Filled\\nArea',\n",
    "        'Window to Wall Ratio':'WWR',\n",
    "        'Insulation Thickness':'Insulation\\nThickness',\n",
    "        'DistrictCooling:Facility':'Cooling\\nConsumption',\n",
    "        'DistrictHeating:Facility':'Heating\\nConsumption',\n",
    "        'InteriorLights:'Lighting\\nConsumption'\n",
    "    })\n",
    "    \n",
    "    fig=plt.figure(figsize=(8, 8))\n",
    "    temp = outputs.corr()\n",
    "    temp = temp.drop(columns=['Cooling\\nConsumption','Heating\\nConsumption','Lighting\\nConsumption'])\n",
    "    temp = temp.drop(['Ar Filled\\nArea', 'Insulation\\nThickness', 'WWR'])\n",
    "    cmap = LinearSegmentedColormap.from_list(\n",
    "        name='hm',\n",
    "        colors=['lightgreen','white','salmon']\n",
    "    )\n",
    "    mask = np.zeros_like(temp, dtype=np.bool)\n",
    "    mask[np.triu_indices_from(mask)] = True\n",
    "    with sns.axes_style(\"white\"):\n",
    "        ax = sns.heatmap(\n",
    "            temp, \n",
    "            annot=True, \n",
    "            fmt='.2f', \n",
    "            cmap='coolwarm',\n",
    "            #cmap = cmap,\n",
    "            square=True, \n",
    "            linewidths=.5, \n",
    "            annot_kws={\"size\": 10}, \n",
    "            cbar_kws={\"shrink\": .8},\n",
    "            vmin=-1,\n",
    "            vmax=1\n",
    "        )\n",
    "        ax.set_ylim(3, 0, .5)\n",
    "        plt.yticks(rotation=0) \n",
    "        plt.savefig(f'../fig/heatmap_{params[0]}_{params[1]}.png', transparent=True)"
   ]
  },
  {
   "cell_type": "code",
   "execution_count": null,
   "metadata": {},
   "outputs": [],
   "source": [
    "#     outputs.describe()\n",
    "# outputs = outputs.drop(columns=['Argon1', 'TotalConsumption']).rename(columns={\n",
    "#     'Argon2':'Ar Filled\\nArea',\n",
    "#     'Window to Wall Ratio':'WWR',\n",
    "#     'Insulation Thickness':'Insulation\\nThickness',\n",
    "#     'DistrictCooling:Facility':'Cooling\\nConsumption',\n",
    "#     'DistrictHeating:Facility':'Heating\\nConsumption',\n",
    "#     'Electricity:Facility':'Lighting\\nConsumption'\n",
    "# })"
   ]
  },
  {
   "cell_type": "code",
   "execution_count": null,
   "metadata": {},
   "outputs": [],
   "source": [
    "# fig=plt.figure(figsize=(8, 8))\n",
    "# temp = outputs.corr()\n",
    "# temp = temp.drop(columns=['Cooling\\nConsumption','Heating\\nConsumption','Lighting\\nConsumption'])\n",
    "# temp = temp.drop(['Ar Filled\\nArea', 'Insulation\\nThickness', 'WWR'])\n",
    "# cmap = LinearSegmentedColormap.from_list(\n",
    "#     name='hm',\n",
    "#     colors=['lightgreen','white','salmon']\n",
    "# )\n",
    "# mask = np.zeros_like(temp, dtype=np.bool)\n",
    "# mask[np.triu_indices_from(mask)] = True\n",
    "# with sns.axes_style(\"white\"):\n",
    "#     ax = sns.heatmap(\n",
    "#         temp, \n",
    "#         annot=True, \n",
    "#         fmt='.2f', \n",
    "#         cmap='coolwarm',\n",
    "#         #cmap = cmap,\n",
    "#         square=True, \n",
    "#         linewidths=.5, \n",
    "#         annot_kws={\"size\": 10}, \n",
    "#         cbar_kws={\"shrink\": .8},\n",
    "#         vmin=-1,\n",
    "#         vmax=1\n",
    "#     )\n",
    "#     ax.set_ylim(3, 0, .5)\n",
    "#     plt.yticks(rotation=0) \n",
    "#     plt.savefig(f'../fig/heatmap_{params[0]}_{params[1]}.png', transparent=True)"
   ]
  },
  {
   "cell_type": "code",
   "execution_count": null,
   "metadata": {},
   "outputs": [],
   "source": []
  }
 ],
 "metadata": {
  "kernelspec": {
   "display_name": "Python 3",
   "language": "python",
   "name": "python3"
  },
  "language_info": {
   "codemirror_mode": {
    "name": "ipython",
    "version": 3
   },
   "file_extension": ".py",
   "mimetype": "text/x-python",
   "name": "python",
   "nbconvert_exporter": "python",
   "pygments_lexer": "ipython3",
   "version": "3.8.5"
  }
 },
 "nbformat": 4,
 "nbformat_minor": 4
}
