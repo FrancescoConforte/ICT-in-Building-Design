{
 "cells": [
  {
   "cell_type": "code",
   "execution_count": 1,
   "metadata": {
    "scrolled": true
   },
   "outputs": [],
   "source": [
    "import matplotlib.pyplot as plt\n",
    "from matplotlib.colors import LinearSegmentedColormap\n",
    "import seaborn as sns\n",
    "from besos import eppy_funcs as ef\n",
    "from besos import sampling\n",
    "from besos.evaluator import EvaluatorEP\n",
    "from besos.parameters import RangeParameter, FieldSelector, FilterSelector, Parameter, expand_plist, wwr, CategoryParameter, GenericSelector\n",
    "from besos.problem import EPProblem\n",
    "import pandas as pd\n",
    "import numpy as np\n",
    "import os\n",
    "import copy"
   ]
  },
  {
   "cell_type": "markdown",
   "metadata": {},
   "source": [
    "# Step 1 - building optimization with besos\n",
    "In this section we use besos to optimize the thickness of the insulation (0-0.35m) of the walls and to test the consumptions of heating, cooling and interior lights with different configurations of WWR (15-50-90%), and in different scenarios of orientation (N-E) and ventilative cooling (On-Off). The configuration that minimize the total consumption is saved in an optimize .idf file."
   ]
  },
  {
   "cell_type": "markdown",
   "metadata": {},
   "source": [
    "### Load the building from .idf file"
   ]
  },
  {
   "cell_type": "code",
   "execution_count": 2,
   "metadata": {},
   "outputs": [
    {
     "name": "stdout",
     "output_type": "stream",
     "text": [
      "single_glazing\n"
     ]
    }
   ],
   "source": [
    "# I will load the first model not yet optimized\n",
    "already_done = [x.split('heatmap_')[1].split('.')[0] for x in os.listdir('../fig/')]\n",
    "for model in os.listdir('../model/idf/'):\n",
    "    title = model[:-4]\n",
    "    if '.idf' in model and title not in already_done:\n",
    "        break\n",
    "print(title)"
   ]
  },
  {
   "cell_type": "code",
   "execution_count": 3,
   "metadata": {},
   "outputs": [],
   "source": [
    "building = ef.get_building(f'../model/idf/{model}')"
   ]
  },
  {
   "cell_type": "markdown",
   "metadata": {},
   "source": [
    "### Define the problem"
   ]
  },
  {
   "cell_type": "markdown",
   "metadata": {},
   "source": [
    "#### Selectors\n",
    "I'm selecting 4 parameter that besos will tune according to a desired range. They respectively are the insulation thickness of the wall (which is proportional to U-value of opaque surfaces), windows to wall ratio, building north axis and ventilation for each room."
   ]
  },
  {
   "cell_type": "code",
   "execution_count": 4,
   "metadata": {},
   "outputs": [],
   "source": [
    "insulation = FieldSelector(\n",
    "    class_name='Material', \n",
    "    object_name='XPS Extruded Polystyrene  - CO2 Blowing_.O957',\n",
    "    field_name='Thickness'\n",
    ")\n",
    "orientation = FieldSelector(\n",
    "    class_name='Building',\n",
    "    object_name='Building',\n",
    "    field_name='North_Axis'\n",
    ")\n",
    "ventilation1 = FieldSelector(\n",
    "    class_name='ZoneVentilation:DesignFlowRate',\n",
    "    object_name='Block1:Zone1 Nat Vent',\n",
    "    field_name='Design_Flow_Rate'\n",
    ")\n",
    "ventilation2= FieldSelector(\n",
    "    class_name='ZoneVentilation:DesignFlowRate',\n",
    "    object_name='Block1:Zone2 Nat Vent',\n",
    "    field_name='Design_Flow_Rate'\n",
    ")\n",
    "ventilationc = FieldSelector(\n",
    "    class_name='ZoneVentilation:DesignFlowRate',\n",
    "    object_name='Block1:Corridor Nat Vent',\n",
    "    field_name='Design_Flow_Rate'\n",
    ")"
   ]
  },
  {
   "cell_type": "markdown",
   "metadata": {},
   "source": [
    "#### Parameters"
   ]
  },
  {
   "cell_type": "code",
   "execution_count": 5,
   "metadata": {},
   "outputs": [
    {
     "name": "stderr",
     "output_type": "stream",
     "text": [
      "/home/ict4bd/Downloads/myenv/lib/python3.8/site-packages/besos/parameters.py:559: UserWarning: wwr is intended to be used with RangeParameter. Your value_descriptor is CategoryParameter(options=[0.15, 0.5, 0.9])\n",
      "  warnings.warn(\n"
     ]
    }
   ],
   "source": [
    "parameters = [\n",
    "    Parameter(\n",
    "        selector=insulation,\n",
    "        value_descriptor=RangeParameter(0.0,0.35),\n",
    "        name='Insulation Thickness'\n",
    "    ),\n",
    "    wwr(\n",
    "        CategoryParameter(options=[.15,.5,.9])\n",
    "    ),\n",
    "    Parameter(\n",
    "        selector=orientation,\n",
    "        value_descriptor=CategoryParameter(options=[0,90]),\n",
    "        name='Orientation'\n",
    "    ),\n",
    "    # Ventilation: ON = max flowrate for that room, OFF = 0\n",
    "    Parameter(\n",
    "        selector=ventilation1,\n",
    "        value_descriptor=CategoryParameter(options=[0, .665074]),\n",
    "        name='Ventilation1'\n",
    "    ),\n",
    "    Parameter(\n",
    "        selector=ventilation2,\n",
    "        value_descriptor=CategoryParameter(options=[0, .653072]),\n",
    "        name='Ventilation2'\n",
    "    ),\n",
    "    Parameter(\n",
    "        selector=ventilationc,\n",
    "        value_descriptor=CategoryParameter(options=[0, .265087]),\n",
    "        name='VentilationC'\n",
    "    )\n",
    "]"
   ]
  },
  {
   "cell_type": "markdown",
   "metadata": {},
   "source": [
    "#### Objectives"
   ]
  },
  {
   "cell_type": "code",
   "execution_count": 6,
   "metadata": {},
   "outputs": [],
   "source": [
    "objectives = [\n",
    "    'InteriorLights:Electricity',\n",
    "    'DistrictHeating:Facility',\n",
    "    'DistrictCooling:Facility'\n",
    "]\n",
    "\n",
    "problem=EPProblem(parameters, objectives)"
   ]
  },
  {
   "cell_type": "markdown",
   "metadata": {},
   "source": [
    "#### Samples\n",
    "Generating various combination of the paramaters to test"
   ]
  },
  {
   "cell_type": "code",
   "execution_count": 7,
   "metadata": {},
   "outputs": [],
   "source": [
    "samples_ins = np.linspace(.05, .35, 3)\n",
    "samples_wwr = [.15, .5, .9]\n",
    "samples_orientation = [0, 90]\n",
    "samples_ventilation1 = [0, .665074]\n",
    "\n",
    "lp1, lp2, lp3, lp4 = pd.core.reshape.util.cartesian_product([\n",
    "    samples_ins,\n",
    "    samples_wwr,\n",
    "    samples_orientation,\n",
    "    samples_ventilation1\n",
    "])\n",
    "\n",
    "samples = pd.DataFrame()\n",
    "samples['Insulation Thickness'] = lp1\n",
    "samples['Window to Wall Ratio'] = lp2\n",
    "samples['Orientation'] = lp3\n",
    "# All the ventilation are are on or off, therefore I used only one of them to evaluate linear combination of parameters\n",
    "samples['Ventilation1'] = lp4\n",
    "samples['Ventilation2'] = lp4/0.665074*.653072\n",
    "samples['VentilationC'] = lp4/0.665074*.265087"
   ]
  },
  {
   "cell_type": "markdown",
   "metadata": {},
   "source": [
    "#### Simulation\n",
    "A simulation will be runned for each sample. The outputs of the objective parameters will be saved in a csv file."
   ]
  },
  {
   "cell_type": "code",
   "execution_count": 8,
   "metadata": {
    "scrolled": true
   },
   "outputs": [
    {
     "name": "stdout",
     "output_type": "stream",
     "text": [
      "Performing evaluation ...\n"
     ]
    },
    {
     "data": {
      "application/vnd.jupyter.widget-view+json": {
       "model_id": "35c5046741e74e6a832a86e8987f7333",
       "version_major": 2,
       "version_minor": 0
      },
      "text/plain": [
       "HBox(children=(FloatProgress(value=0.0, description='Executing', max=36.0, style=ProgressStyle(description_wid…"
      ]
     },
     "metadata": {},
     "output_type": "display_data"
    },
    {
     "name": "stdout",
     "output_type": "stream",
     "text": [
      "\n",
      "File Saved.\n"
     ]
    }
   ],
   "source": [
    "evaluator = EvaluatorEP(\n",
    "    problem, \n",
    "    building, \n",
    "    out_dir=f'outputdir_{title}_optimization', \n",
    "    err_dir=f'errdir_{title}_optimization',\n",
    "    epw=f'../weather/new_epw_file_2017.epw'\n",
    ")\n",
    "print(f'Performing evaluation ...')\n",
    "outputs = evaluator.df_apply(samples, keep_input=True)\n",
    "\n",
    "# conversion to kW/h                    \n",
    "outputs['InteriorLights:Electricity']/=3.6e6\n",
    "outputs['DistrictHeating:Facility']/=3.6e6\n",
    "outputs['DistrictCooling:Facility']/=3.6e6\n",
    "outputs['TotalConsumption']=outputs['DistrictHeating:Facility']+outputs['DistrictCooling:Facility']+outputs['InteriorLights:Electricity']\n",
    "\n",
    "outputs.to_csv(f'../data/{title}_optimization.csv')\n",
    "print('File Saved.')"
   ]
  },
  {
   "cell_type": "code",
   "execution_count": 9,
   "metadata": {},
   "outputs": [
    {
     "name": "stdout",
     "output_type": "stream",
     "text": [
      "Insulation Thickness              0.350000\n",
      "Window to Wall Ratio              0.900000\n",
      "Orientation                      90.000000\n",
      "Ventilation1                      0.665074\n",
      "Ventilation2                      0.653072\n",
      "VentilationC                      0.265087\n",
      "InteriorLights:Electricity     6056.009920\n",
      "DistrictHeating:Facility       5606.294011\n",
      "DistrictCooling:Facility       2494.503609\n",
      "TotalConsumption              14156.807541\n",
      "Name: 35, dtype: float64\n"
     ]
    }
   ],
   "source": [
    "# The optimum values-those that minimize total consumption- are set in a optimized building .idf file. \n",
    "opt_values = outputs.loc[outputs['TotalConsumption'].idxmin()]\n",
    "with open('../data/results.csv', 'a') as f:\n",
    "    f.write(f'{title}:\\n{opt_values}\\n')\n",
    "print(opt_values)\n",
    "\n",
    "opt_building = copy.deepcopy(building)\n",
    "\n",
    "if opt_values['Ventilation1'] == 0:\n",
    "    for zone in opt_building.idfobjects['ZoneVentilation:DesignFlowRate']:\n",
    "        zone['Design_Flow_Rate'] = 0\n",
    "        \n",
    "if opt_values['Orientation'] == 90:\n",
    "    opt_building.idfobjects['Building'][0]['North_Axis'] = 90.0\n",
    "    \n",
    "for obj in opt_building.idfobjects['Material']:\n",
    "    if obj['Name'] == 'XPS Extruded Polystyrene  - CO2 Blowing_.O957':\n",
    "        obj['Thickness'] = opt_values['Insulation Thickness']\n",
    "        \n",
    "ef.wwr_all(opt_building, opt_values['Window to Wall Ratio'])\n",
    "\n",
    "opt_building.saveas(f'../model/optimized_idf/{title}_optimized.idf')"
   ]
  },
  {
   "cell_type": "markdown",
   "metadata": {},
   "source": [
    "#### Plotting correlations among variables\n",
    "The outputs columns are optimized for readibility and then a correlation heatmap is plotted and saved, to support the chosen configuration"
   ]
  },
  {
   "cell_type": "code",
   "execution_count": 10,
   "metadata": {},
   "outputs": [],
   "source": [
    "outputs = outputs.drop(columns=['Ventilation2', 'VentilationC', 'TotalConsumption']).rename(columns={\n",
    "    'Window to Wall Ratio':'WWR',\n",
    "    'Insulation Thickness':'Insulation\\nThickness',\n",
    "    'Ventilation1':'Ventilation',\n",
    "    'DistrictCooling:Facility':'Cooling\\nConsumption',\n",
    "    'DistrictHeating:Facility':'Heating\\nConsumption',\n",
    "    'InteriorLights:Electricity':'Lighting\\nConsumption'\n",
    "})"
   ]
  },
  {
   "cell_type": "code",
   "execution_count": 11,
   "metadata": {
    "scrolled": true
   },
   "outputs": [
    {
     "data": {
      "image/png": "[encoded data removed]",
      "text/plain": [
       "<Figure size 576x576 with 2 Axes>"
      ]
     },
     "metadata": {
      "needs_background": "light"
     },
     "output_type": "display_data"
    }
   ],
   "source": [
    "fig=plt.figure(figsize=(8, 8))\n",
    "temp = outputs.corr()\n",
    "temp = temp.drop(columns=['Cooling\\nConsumption','Heating\\nConsumption','Lighting\\nConsumption'])\n",
    "temp = temp.drop(['Ventilation', 'Insulation\\nThickness', 'WWR', 'Orientation'])\n",
    "\n",
    "mask = np.zeros_like(temp, dtype=np.bool)\n",
    "mask[np.triu_indices_from(mask)] = True\n",
    "with sns.axes_style(\"white\"):\n",
    "    ax = sns.heatmap(\n",
    "        temp, \n",
    "        annot=True, \n",
    "        fmt='.2f', \n",
    "        cmap='coolwarm',\n",
    "        square=True, \n",
    "        linewidths=.5, \n",
    "        annot_kws={\"size\": 10}, \n",
    "        cbar_kws={\"shrink\": .8},\n",
    "        vmin=-1,\n",
    "        vmax=1\n",
    "    )\n",
    "    ax.set_ylim(3, 0, .5)\n",
    "    plt.yticks(rotation=0) \n",
    "#     plt.title(f'Correlation among parameters and consumption in {title} configuration')\n",
    "    plt.savefig(f'../fig/heatmap_{title}.png')"
   ]
  }
 ],
 "metadata": {
  "kernelspec": {
   "display_name": "Python 3",
   "language": "python",
   "name": "python3"
  },
  "language_info": {
   "codemirror_mode": {
    "name": "ipython",
    "version": 3
   },
   "file_extension": ".py",
   "mimetype": "text/x-python",
   "name": "python",
   "nbconvert_exporter": "python",
   "pygments_lexer": "ipython3",
   "version": "3.8.5"
  }
 },
 "nbformat": 4,
 "nbformat_minor": 4
}
